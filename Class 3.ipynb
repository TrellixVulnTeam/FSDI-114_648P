{
 "cells": [
  {
   "cell_type": "code",
   "execution_count": 13,
   "id": "624099fe",
   "metadata": {},
   "outputs": [
    {
     "name": "stdout",
     "output_type": "stream",
     "text": [
      "0\n",
      "1\n",
      "2\n"
     ]
    }
   ],
   "source": [
    "class Queue2Stacks:\n",
    "    def __init__(self):\n",
    "        # Two Stacks\n",
    "        self.stack1 = []\n",
    "        self.stack2 = []\n",
    "        \n",
    "    def enqueue(self, element):\n",
    "        self.stack1.append(element)\n",
    "        \n",
    "    def dequeue(self):\n",
    "        while self.stack1 != []:\n",
    "            element = self.stack1.pop()\n",
    "            self.stack2.append(element)\n",
    "        return self.stack2.pop()\n",
    "    \n",
    "def test():\n",
    "    # This should print: 0,1,2,3,4\n",
    "    # Note: It will print vertically\n",
    "    q = Queue2Stacks()\n",
    "    for i in range(3):\n",
    "        q.enqueue(i)\n",
    "    for i in range(3):\n",
    "        print(q.dequeue())\n",
    "           \n",
    "test()"
   ]
  },
  {
   "cell_type": "code",
   "execution_count": 15,
   "id": "6f53996b",
   "metadata": {},
   "outputs": [
    {
     "data": {
      "text/plain": [
       "3628800"
      ]
     },
     "execution_count": 15,
     "metadata": {},
     "output_type": "execute_result"
    }
   ],
   "source": [
    "def fact(n):\n",
    "    if n == 0:\n",
    "        return 1\n",
    "    return n * fact(n-1)\n",
    "fact(10)"
   ]
  },
  {
   "cell_type": "code",
   "execution_count": 17,
   "id": "19404a39",
   "metadata": {},
   "outputs": [
    {
     "data": {
      "text/plain": [
       "21"
      ]
     },
     "execution_count": 17,
     "metadata": {},
     "output_type": "execute_result"
    }
   ],
   "source": [
    "# We know that Fibonacci number is the sum of the two preceding numbers in the series. F(n) = F(n-1) + F(n-2)\n",
    "# A good base case would be when n < 2 because any number below 2 in the series is simply that same number.\n",
    "\n",
    "def fib(n):\n",
    "    if n < 2: # base case\n",
    "        return n\n",
    "    return fib(n-1) + fib(n-2)\n",
    "\n",
    "# tWarning: est this with a number below 50!\n",
    "\n",
    "fib(8)"
   ]
  },
  {
   "cell_type": "code",
   "execution_count": 18,
   "id": "3624c41b",
   "metadata": {},
   "outputs": [
    {
     "data": {
      "text/plain": [
       "354224848179261915075"
      ]
     },
     "execution_count": 18,
     "metadata": {},
     "output_type": "execute_result"
    }
   ],
   "source": [
    "from functools import lru_cache\n",
    "\n",
    "@lru_cache\n",
    "def fib_2(n):\n",
    "    if n < 2:\n",
    "        return n\n",
    "    return fib_2(n-1) + fib_2(n-2)\n",
    "\n",
    "fib_2(100)"
   ]
  },
  {
   "cell_type": "code",
   "execution_count": 24,
   "id": "418a9a91",
   "metadata": {},
   "outputs": [],
   "source": [
    "fib_numbers = {}\n",
    "\n",
    "def fib_3(n):\n",
    "    if n in fib_numbers.keys():\n",
    "        return fib_numbers.get(n)\n",
    "    else:\n",
    "        if n < 2:\n",
    "            return n\n",
    "        fib_numbers[n] = fib_3(n-1) + fib_3(n-2)\n",
    "        return fib_numbers.get(n)"
   ]
  },
  {
   "cell_type": "code",
   "execution_count": 25,
   "id": "1a09a1f3",
   "metadata": {},
   "outputs": [
    {
     "data": {
      "text/plain": [
       "12586269025"
      ]
     },
     "execution_count": 25,
     "metadata": {},
     "output_type": "execute_result"
    }
   ],
   "source": [
    "fib_3(50)"
   ]
  },
  {
   "cell_type": "code",
   "execution_count": 30,
   "id": "6293a464",
   "metadata": {},
   "outputs": [],
   "source": [
    "class Node:\n",
    "    def __init__(self, data):\n",
    "        self.data = data\n",
    "        self.next = None"
   ]
  },
  {
   "cell_type": "code",
   "execution_count": 33,
   "id": "858b2605",
   "metadata": {},
   "outputs": [
    {
     "name": "stdout",
     "output_type": "stream",
     "text": [
      "0\n",
      "1\n",
      "2\n"
     ]
    }
   ],
   "source": [
    "head = Node(0)\n",
    "\n",
    "node1 = Node(1)\n",
    "\n",
    "head.next = node1\n",
    "\n",
    "node2 = Node(2)\n",
    "\n",
    "node1.next = node2\n",
    "\n",
    "current = head\n",
    "while current: # this is shorthand for: current.next != None\n",
    "    print(current.data)\n",
    "    current = current.next\n",
    "    \n"
   ]
  },
  {
   "cell_type": "code",
   "execution_count": 47,
   "id": "72454b0b",
   "metadata": {},
   "outputs": [],
   "source": [
    "class SinglyLinkedList:\n",
    "    def __init__(self):\n",
    "        self.head = None\n",
    "        \n",
    "    def append(self, item):\n",
    "        if not self.head:\n",
    "            self.head = Node(item)\n",
    "        else:\n",
    "            current = self.head\n",
    "            while current.next:\n",
    "                current = current.next\n",
    "            current.next = Node(item)\n",
    "            \n",
    "    def __str__(self):\n",
    "        out_str = \"[\"\n",
    "        current = self.head\n",
    "        while current.next:\n",
    "            out_str += \" %s,\"  % str(current.data)\n",
    "            current = current.next\n",
    "        out_str += \" %s]\" % current.data\n",
    "        return out_str\n",
    "    \n",
    "    "
   ]
  },
  {
   "cell_type": "code",
   "execution_count": 48,
   "id": "69ea8913",
   "metadata": {},
   "outputs": [
    {
     "name": "stdout",
     "output_type": "stream",
     "text": [
      "[ 0, 1, 2, 3, 4]\n"
     ]
    }
   ],
   "source": [
    "sll = SinglyLinkedList()\n",
    "\n",
    "for i in range(5):\n",
    "    sll.append(i)\n",
    "    \n",
    "print(sll)"
   ]
  },
  {
   "cell_type": "code",
   "execution_count": 49,
   "id": "a1e0cca6",
   "metadata": {},
   "outputs": [],
   "source": [
    "class Stack:\n",
    "    def __init__(self):\n",
    "        self.items = []\n",
    "        \n",
    "    def is_empty(self):\n",
    "        return self.items == []\n",
    "    \n",
    "    def push(self, item):\n",
    "        self.items.append(item)\n",
    "        \n",
    "    def pop(self):\n",
    "        return self.items.pop()\n",
    "    \n",
    "    def peek(self):\n",
    "        return self.items[len(self.items)-1]\n",
    "    \n",
    "    def size(self):\n",
    "        return len(Self.items)"
   ]
  },
  {
   "cell_type": "code",
   "execution_count": 50,
   "id": "dcefcecf",
   "metadata": {},
   "outputs": [
    {
     "data": {
      "text/plain": [
       "' tterB'"
      ]
     },
     "execution_count": 50,
     "metadata": {},
     "output_type": "execute_result"
    }
   ],
   "source": [
    "def reverse_str(s):\n",
    "    stack = Stack()\n",
    "    for letter in s:\n",
    "        stack.push(letter)\n",
    "    output = \" \"\n",
    "    while stack.is_empty() == False:\n",
    "        output += stack.pop()\n",
    "    return output\n",
    "    \n",
    "reverse_str(\"Brett\")"
   ]
  },
  {
   "cell_type": "code",
   "execution_count": 51,
   "id": "028a0fdd",
   "metadata": {},
   "outputs": [],
   "source": [
    "class Queue:\n",
    "    def __init__(self):\n",
    "        self.items = []\n",
    "        \n",
    "    def is_empty(self):\n",
    "        return self.items == []\n",
    "    \n",
    "    def enqueue(self, item):\n",
    "        self.items.insert(0, item)\n",
    "        \n",
    "    def dequeue(self):\n",
    "        return self.items.pop()\n",
    "    \n",
    "    def size(self):\n",
    "        return len(self.items)\n",
    "    \n",
    "    "
   ]
  },
  {
   "cell_type": "code",
   "execution_count": 52,
   "id": "c6b3aed9",
   "metadata": {},
   "outputs": [
    {
     "name": "stdout",
     "output_type": "stream",
     "text": [
      "B\n",
      "r\n",
      "e\n",
      "t\n",
      "t\n"
     ]
    }
   ],
   "source": [
    "mystring = \"Brett\"\n",
    "queue = Queue()\n",
    "for letter in mystring:\n",
    "    queue.enqueue(letter)\n",
    "    \n",
    "while queue.is_empty() != True:\n",
    "    print(queue.dequeue())"
   ]
  },
  {
   "cell_type": "code",
   "execution_count": null,
   "id": "33d9c123",
   "metadata": {},
   "outputs": [],
   "source": []
  }
 ],
 "metadata": {
  "kernelspec": {
   "display_name": "Python 3 (ipykernel)",
   "language": "python",
   "name": "python3"
  },
  "language_info": {
   "codemirror_mode": {
    "name": "ipython",
    "version": 3
   },
   "file_extension": ".py",
   "mimetype": "text/x-python",
   "name": "python",
   "nbconvert_exporter": "python",
   "pygments_lexer": "ipython3",
   "version": "3.8.10"
  }
 },
 "nbformat": 4,
 "nbformat_minor": 5
}
