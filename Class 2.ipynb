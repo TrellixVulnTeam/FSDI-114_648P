{
 "cells": [
  {
   "cell_type": "code",
   "execution_count": 1,
   "id": "9a97311a",
   "metadata": {},
   "outputs": [],
   "source": [
    "class Stack:\n",
    "    def __init__(self):\n",
    "        self.items = []\n",
    "        \n",
    "    def is_empty(self):\n",
    "        return self.items == []\n",
    "    \n",
    "    def push(self, item):\n",
    "        self.items.append(item)\n",
    "        \n",
    "    def pop(self):\n",
    "        return self.items.pop()\n",
    "    \n",
    "    def peek(self):\n",
    "        return self.items[len(self.items)-1]\n",
    "    \n",
    "    def size(self):\n",
    "        return len(Self.items)"
   ]
  },
  {
   "cell_type": "markdown",
   "id": "88504f57",
   "metadata": {},
   "source": [
    "# String Reversal\n",
    "### Using our stack class (above), create a function called reverse_stack that takes a parameter \"s\" string and inverts it. \n",
    "\n",
    "```Example:\n",
    "s = \"Brett\"\n",
    "o = reverse_str(s)\n",
    "print(o) == \"leafaR\"\n"
   ]
  },
  {
   "cell_type": "code",
   "execution_count": 2,
   "id": "7cd13e6a",
   "metadata": {},
   "outputs": [
    {
     "ename": "NameError",
     "evalue": "name 'Brett' is not defined",
     "output_type": "error",
     "traceback": [
      "\u001b[0;31m---------------------------------------------------------------------------\u001b[0m",
      "\u001b[0;31mNameError\u001b[0m                                 Traceback (most recent call last)",
      "Input \u001b[0;32mIn [2]\u001b[0m, in \u001b[0;36m<cell line: 1>\u001b[0;34m()\u001b[0m\n\u001b[0;32m----> 1\u001b[0m \u001b[38;5;28;01mclass\u001b[39;00m \u001b[38;5;21;01mreverse_stack\u001b[39;00m:\n\u001b[1;32m      2\u001b[0m     s \u001b[38;5;241m=\u001b[39m Brett[::\u001b[38;5;241m-\u001b[39m\u001b[38;5;241m1\u001b[39m]\n\u001b[1;32m      3\u001b[0m     \u001b[38;5;28mprint\u001b[39m(s)\n",
      "Input \u001b[0;32mIn [2]\u001b[0m, in \u001b[0;36mreverse_stack\u001b[0;34m()\u001b[0m\n\u001b[1;32m      1\u001b[0m \u001b[38;5;28;01mclass\u001b[39;00m \u001b[38;5;21;01mreverse_stack\u001b[39;00m:\n\u001b[0;32m----> 2\u001b[0m     s \u001b[38;5;241m=\u001b[39m \u001b[43mBrett\u001b[49m[::\u001b[38;5;241m-\u001b[39m\u001b[38;5;241m1\u001b[39m]\n\u001b[1;32m      3\u001b[0m     \u001b[38;5;28mprint\u001b[39m(s)\n",
      "\u001b[0;31mNameError\u001b[0m: name 'Brett' is not defined"
     ]
    }
   ],
   "source": [
    "class reverse_stack:\n",
    "    s = Brett[::-1]\n",
    "    print(s)"
   ]
  },
  {
   "cell_type": "code",
   "execution_count": 12,
   "id": "a907ab15",
   "metadata": {},
   "outputs": [
    {
     "data": {
      "text/plain": [
       "'tterB'"
      ]
     },
     "execution_count": 12,
     "metadata": {},
     "output_type": "execute_result"
    }
   ],
   "source": [
    "# def reverse_stack(s):\n",
    "#         return s[::-1]\n",
    "\n",
    "# reverse_stack(\"Brett\")\n"
   ]
  },
  {
   "cell_type": "code",
   "execution_count": 19,
   "id": "fe272f26",
   "metadata": {},
   "outputs": [
    {
     "data": {
      "text/plain": [
       "' tterB'"
      ]
     },
     "execution_count": 19,
     "metadata": {},
     "output_type": "execute_result"
    }
   ],
   "source": [
    "def reverse_str(s):\n",
    "    stack = Stack()\n",
    "    for letter in s:\n",
    "        stack.push(letter)\n",
    "    output = \" \"\n",
    "    while stack.is_empty() == False:\n",
    "        output += stack.pop()\n",
    "    return output\n",
    "    \n",
    "reverse_str(\"Brett\")"
   ]
  },
  {
   "cell_type": "code",
   "execution_count": 25,
   "id": "3fcccc42",
   "metadata": {},
   "outputs": [],
   "source": [
    "# palindrome\n",
    "# racecar <- racecar\n",
    "#13331\n",
    "\n",
    "def is_palindrom(mystring):\n",
    "    pivot1 = len(mystring)-1\n",
    "    pivot2 = 0\n",
    "#     last_char = mystring[len(mystring)-1]\n",
    "#     first_char = mystring[0]\n",
    "    while pivot2 < pivot1:\n",
    "        if mystring[pivot1] != mystring[pivot2]:\n",
    "            return False\n",
    "        pivot2 += 1\n",
    "        pivot1 -= 1 \n",
    "    return True\n"
   ]
  },
  {
   "cell_type": "code",
   "execution_count": 22,
   "id": "685a5d06",
   "metadata": {},
   "outputs": [],
   "source": [
    "class Queue:\n",
    "    def __init__(self):\n",
    "        self.items = []\n",
    "        \n",
    "    def is_empty(self):\n",
    "        return self.items == []\n",
    "    \n",
    "    def enqueue(self, item):\n",
    "        self.items.insert(0, item)\n",
    "        \n",
    "    def dequeue(self):\n",
    "        return self.items.pop()\n",
    "    \n",
    "    def size(self):\n",
    "        return len(self.items)\n",
    "    \n",
    "    "
   ]
  },
  {
   "cell_type": "code",
   "execution_count": 24,
   "id": "bb31bdef",
   "metadata": {},
   "outputs": [
    {
     "name": "stdout",
     "output_type": "stream",
     "text": [
      "B\n",
      "r\n",
      "e\n",
      "t\n",
      "t\n"
     ]
    }
   ],
   "source": [
    "mystring = \"Brett\"\n",
    "queue = Queue()\n",
    "for letter in mystring:\n",
    "    queue.enqueue(letter)\n",
    "    \n",
    "while queue.is_empty() != True:\n",
    "    print(queue.dequeue())"
   ]
  },
  {
   "cell_type": "code",
   "execution_count": 26,
   "id": "74ce3641",
   "metadata": {},
   "outputs": [],
   "source": [
    "string1 = \"(((({{{[[[[]]]]}}}))))\" # balanced\n",
    "string2 = \"()()()(){}{}{}[][][][]\" # balanced\n",
    "string3 = \"((([[][][]])))\"         # balanced as well\n"
   ]
  },
  {
   "cell_type": "code",
   "execution_count": null,
   "id": "bbbedd32",
   "metadata": {},
   "outputs": [],
   "source": [
    "def balance_check(s):\n",
    "    if len(s)%2 != 0:     # best case; O(1)\n",
    "        return False\n",
    "    opening = set(\"({[\")\n",
    "    matches = set([\n",
    "        (\"(\", \")\"),\n",
    "        (\"{\", \"}\"),\n",
    "        (\"[\", \"]\").\n",
    "    ])\n",
    "    stack = Stack()\n",
    "    for paren in s:\n",
    "        if paren in opening:\n",
    "            stack.push(paren)\n",
    "        else:\n",
    "            if stack.is_empty()\n",
    "                return False\n",
    "            last_open = stack.pop()\n",
    "            if (last_open, paren) not in matches:\n",
    "                return False\n",
    "    return stack.is_empty()"
   ]
  }
 ],
 "metadata": {
  "kernelspec": {
   "display_name": "Python 3 (ipykernel)",
   "language": "python",
   "name": "python3"
  },
  "language_info": {
   "codemirror_mode": {
    "name": "ipython",
    "version": 3
   },
   "file_extension": ".py",
   "mimetype": "text/x-python",
   "name": "python",
   "nbconvert_exporter": "python",
   "pygments_lexer": "ipython3",
   "version": "3.8.10"
  }
 },
 "nbformat": 4,
 "nbformat_minor": 5
}
