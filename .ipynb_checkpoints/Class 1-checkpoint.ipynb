{
 "cells": [
  {
   "cell_type": "code",
   "execution_count": 2,
   "id": "d2f4d6b1",
   "metadata": {},
   "outputs": [
    {
     "name": "stdout",
     "output_type": "stream",
     "text": [
      "h\n",
      "e\n",
      "l\n",
      "l\n",
      "o\n",
      ",\n",
      " \n",
      "w\n",
      "o\n",
      "r\n",
      "l\n",
      "d\n"
     ]
    }
   ],
   "source": [
    "for letter in \"hello, world\":\n",
    "    print(letter)"
   ]
  },
  {
   "cell_type": "markdown",
   "id": "fc603d41",
   "metadata": {},
   "source": [
    "# Problem 1\n",
    "## Anagram Check.\n",
    "\n",
    "#### Check if two strings are anagrams of each other considering the following:\n",
    "\n",
    "#### Given two strings (string_a and string_b) we must first validate that these are of equal length and that they use the same characters in the exact same amount of times.\n",
    "\n",
    "#### For example: cars and scars are anagrams but cars and scaar are not; Similarly, scar and sccr are not anagrams of each other."
   ]
  },
  {
   "cell_type": "code",
   "execution_count": 3,
   "id": "b5444f24",
   "metadata": {},
   "outputs": [],
   "source": [
    "# def is_anagram(string_a, string_b):\n",
    "#     return sorted(string_a) == sorted(string_b)"
   ]
  },
  {
   "cell_type": "code",
   "execution_count": 4,
   "id": "f47d53fc",
   "metadata": {},
   "outputs": [
    {
     "data": {
      "text/plain": [
       "True"
      ]
     },
     "execution_count": 4,
     "metadata": {},
     "output_type": "execute_result"
    }
   ],
   "source": [
    "is_anagram(\"heart\", \"earth\")"
   ]
  },
  {
   "cell_type": "code",
   "execution_count": 5,
   "id": "0437b8d5",
   "metadata": {},
   "outputs": [
    {
     "data": {
      "text/plain": [
       "False"
      ]
     },
     "execution_count": 5,
     "metadata": {},
     "output_type": "execute_result"
    }
   ],
   "source": [
    "is_anagram(\"cars\", \"sccr\")"
   ]
  },
  {
   "cell_type": "code",
   "execution_count": 6,
   "id": "f82df960",
   "metadata": {},
   "outputs": [],
   "source": [
    "# pseudocode\n",
    "# function is_anagram, receive as params -> string_a, string_b:\n",
    "#       length_of_string_a = get_length_of(string_a)\n",
    "#       length_of_string_b = get_length_of(string_b)\n",
    "#       if length_of_string_a is not equal of length_of_String_b:\n",
    "#            return False\n",
    "#       anagram_jumble = new String()\n",
    "#       loop for the length of string_a:\n",
    "#           if"
   ]
  },
  {
   "cell_type": "code",
   "execution_count": 7,
   "id": "a4157615",
   "metadata": {},
   "outputs": [
    {
     "data": {
      "text/plain": [
       "65"
      ]
     },
     "execution_count": 7,
     "metadata": {},
     "output_type": "execute_result"
    }
   ],
   "source": [
    "ord(\"A\")"
   ]
  },
  {
   "cell_type": "code",
   "execution_count": 9,
   "id": "5f85672b",
   "metadata": {},
   "outputs": [
    {
     "name": "stdout",
     "output_type": "stream",
     "text": [
      "True\n"
     ]
    }
   ],
   "source": [
    "out = 0\n",
    "for letter in \"cars\":\n",
    "    out += ord(letter)\n",
    "   \n",
    "out2 = 0\n",
    "for letter in \"scar\":\n",
    "    out2 += ord(letter)\n",
    "print(out == out2)"
   ]
  },
  {
   "cell_type": "code",
   "execution_count": 9,
   "id": "b9590759",
   "metadata": {},
   "outputs": [],
   "source": [
    "def is_anagram(string_a, string_b):\n",
    "    a = \"\".join(string_a.split()) \n",
    "    b = \"\".join(string_b.split())\n",
    "    \n",
    "    if len(a) != len(b):\n",
    "        return False\n",
    "    else:\n",
    "        new_a = a.lower() \n",
    "        new_b = b.lower() \n",
    "    char_times_a = dict()\n",
    "    char_times_b = dict()\n",
    "    for i in range(len(new_a)):\n",
    "        if new_a[i] not in char_times_a.keys():\n",
    "            char_times_a[new_a[i]] = 1\n",
    "        else:\n",
    "            char_times_a[new_a[i]] += 1\n",
    "        if new_b[i] not in char_times_b.keys():\n",
    "            char_times_b[new_b[i]] = 1\n",
    "        else:\n",
    "            char_times_b[new_b[i]] += 1\n",
    "            \n",
    "    return char_times_a == char_times_b\n"
   ]
  },
  {
   "cell_type": "code",
   "execution_count": 13,
   "id": "f6ae154f",
   "metadata": {},
   "outputs": [
    {
     "data": {
      "text/plain": [
       "True"
      ]
     },
     "execution_count": 13,
     "metadata": {},
     "output_type": "execute_result"
    }
   ],
   "source": [
    "is_anagram(\"I am lord Voldemort\", \"Tom Marvolo Riddle\")"
   ]
  },
  {
   "cell_type": "code",
   "execution_count": null,
   "id": "67091603",
   "metadata": {},
   "outputs": [],
   "source": [
    "string_a = \"I am lord Voldemort\"\n",
    "string_b = \"Tom Marvolo Riddle\"\n",
    "# challenge: find a way to get is_anagram to return true for these values"
   ]
  },
  {
   "cell_type": "markdown",
   "id": "f0cd6d31",
   "metadata": {},
   "source": [
    "def is_anagram(string_a, string_b)\n",
    "    a = \"\".join(string_a.split())\n",
    "    b = \"\".join(string_b.split())\n",
    "    \n",
    "    if len(a) != len(b)\n",
    "        return False\n",
    "        \n",
    "        \n",
    "    is_anagram(\"DFE RE poiuy\", \"qwerty MNBV\")"
   ]
  },
  {
   "cell_type": "code",
   "execution_count": 6,
   "id": "fb360b0d",
   "metadata": {},
   "outputs": [
    {
     "data": {
      "text/plain": [
       "True"
      ]
     },
     "execution_count": 6,
     "metadata": {},
     "output_type": "execute_result"
    }
   ],
   "source": [
    "def is_anagram(string_a, string_b):\n",
    "    a = \"\".join(string_a.split()) \n",
    "    b = \"\".join(string_b.split())\n",
    "\n",
    "    if len(a) != len(b):\n",
    "        return False\n",
    "    else:\n",
    "        return a.lower() == b.lower()\n",
    "\n",
    "\n",
    "\n",
    "is_anagram(\"sca r\", \"Scar\")"
   ]
  },
  {
   "cell_type": "code",
   "execution_count": null,
   "id": "1cae05cb",
   "metadata": {},
   "outputs": [],
   "source": []
  }
 ],
 "metadata": {
  "kernelspec": {
   "display_name": "Python 3 (ipykernel)",
   "language": "python",
   "name": "python3"
  },
  "language_info": {
   "codemirror_mode": {
    "name": "ipython",
    "version": 3
   },
   "file_extension": ".py",
   "mimetype": "text/x-python",
   "name": "python",
   "nbconvert_exporter": "python",
   "pygments_lexer": "ipython3",
   "version": "3.8.10"
  }
 },
 "nbformat": 4,
 "nbformat_minor": 5
}
